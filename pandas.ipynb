{
 "nbformat": 4,
 "nbformat_minor": 2,
 "metadata": {
  "language_info": {
   "name": "python",
   "codemirror_mode": {
    "name": "ipython",
    "version": 3
   },
   "version": "3.7.4"
  },
  "orig_nbformat": 2,
  "file_extension": ".py",
  "mimetype": "text/x-python",
  "name": "python",
  "npconvert_exporter": "python",
  "pygments_lexer": "ipython3",
  "version": 3
 },
 "cells": [
  {
   "cell_type": "code",
   "execution_count": null,
   "metadata": {},
   "outputs": [],
   "source": [
    "# pandas 사용하기\n",
    "import numpy as np # numpy 도 함께 import\n",
    "import pandas as pd"
   ]
  },
  {
   "cell_type": "code",
   "execution_count": 20,
   "metadata": {},
   "outputs": [
    {
     "data": {
      "text/html": "<div>\n<style scoped>\n    .dataframe tbody tr th:only-of-type {\n        vertical-align: middle;\n    }\n\n    .dataframe tbody tr th {\n        vertical-align: top;\n    }\n\n    .dataframe thead th {\n        text-align: right;\n    }\n</style>\n<table border=\"1\" class=\"dataframe\">\n  <thead>\n    <tr style=\"text-align: right;\">\n      <th></th>\n      <th>name</th>\n      <th>year</th>\n      <th>points</th>\n    </tr>\n  </thead>\n  <tbody>\n    <tr>\n      <td>0</td>\n      <td>Beomwoo</td>\n      <td>2013</td>\n      <td>1.5</td>\n    </tr>\n    <tr>\n      <td>1</td>\n      <td>Beomwoo</td>\n      <td>2014</td>\n      <td>1.7</td>\n    </tr>\n    <tr>\n      <td>2</td>\n      <td>Beomwoo</td>\n      <td>2015</td>\n      <td>3.6</td>\n    </tr>\n    <tr>\n      <td>3</td>\n      <td>Kim</td>\n      <td>2016</td>\n      <td>2.4</td>\n    </tr>\n    <tr>\n      <td>4</td>\n      <td>Park</td>\n      <td>2015</td>\n      <td>2.9</td>\n    </tr>\n  </tbody>\n</table>\n</div>",
      "text/plain": "      name  year  points\n0  Beomwoo  2013     1.5\n1  Beomwoo  2014     1.7\n2  Beomwoo  2015     3.6\n3      Kim  2016     2.4\n4     Park  2015     2.9"
     },
     "execution_count": 20,
     "metadata": {},
     "output_type": "execute_result"
    }
   ],
   "source": [
    "data = {'name': ['Beomwoo', 'Beomwoo', 'Beomwoo', 'Kim', 'Park'],\n",
    "        'year': [2013, 2014, 2015, 2016, 2015],\n",
    "        'points': [1.5, 1.7, 3.6, 2.4, 2.9]}\n",
    "df = pd.DataFrame(data)\n",
    "df"
   ]
  },
  {
   "cell_type": "code",
   "execution_count": 11,
   "metadata": {},
   "outputs": [
    {
     "data": {
      "text/plain": "RangeIndex(start=0, stop=5, step=1)"
     },
     "execution_count": 11,
     "metadata": {},
     "output_type": "execute_result"
    }
   ],
   "source": [
    "df.index"
   ]
  },
  {
   "cell_type": "code",
   "execution_count": 13,
   "metadata": {},
   "outputs": [
    {
     "data": {
      "text/plain": "Index(['name', 'year', 'points'], dtype='object')"
     },
     "execution_count": 13,
     "metadata": {},
     "output_type": "execute_result"
    }
   ],
   "source": [
    "df.columns"
   ]
  },
  {
   "cell_type": "code",
   "execution_count": 14,
   "metadata": {},
   "outputs": [
    {
     "data": {
      "text/plain": "array([['Beomwoo', 2013, 1.5],\n       ['Beomwoo', 2014, 1.7],\n       ['Beomwoo', 2015, 3.6],\n       ['Kim', 2016, 2.4],\n       ['Park', 2015, 2.9]], dtype=object)"
     },
     "execution_count": 14,
     "metadata": {},
     "output_type": "execute_result"
    }
   ],
   "source": [
    "df.values"
   ]
  },
  {
   "cell_type": "code",
   "execution_count": 16,
   "metadata": {},
   "outputs": [
    {
     "data": {
      "text/html": "<div>\n<style scoped>\n    .dataframe tbody tr th:only-of-type {\n        vertical-align: middle;\n    }\n\n    .dataframe tbody tr th {\n        vertical-align: top;\n    }\n\n    .dataframe thead th {\n        text-align: right;\n    }\n</style>\n<table border=\"1\" class=\"dataframe\">\n  <thead>\n    <tr style=\"text-align: right;\">\n      <th>Info</th>\n      <th>name</th>\n      <th>year</th>\n      <th>points</th>\n    </tr>\n    <tr>\n      <th>Num</th>\n      <th></th>\n      <th></th>\n      <th></th>\n    </tr>\n  </thead>\n  <tbody>\n    <tr>\n      <td>0</td>\n      <td>Beomwoo</td>\n      <td>2013</td>\n      <td>1.5</td>\n    </tr>\n    <tr>\n      <td>1</td>\n      <td>Beomwoo</td>\n      <td>2014</td>\n      <td>1.7</td>\n    </tr>\n    <tr>\n      <td>2</td>\n      <td>Beomwoo</td>\n      <td>2015</td>\n      <td>3.6</td>\n    </tr>\n    <tr>\n      <td>3</td>\n      <td>Kim</td>\n      <td>2016</td>\n      <td>2.4</td>\n    </tr>\n    <tr>\n      <td>4</td>\n      <td>Park</td>\n      <td>2015</td>\n      <td>2.9</td>\n    </tr>\n  </tbody>\n</table>\n</div>",
      "text/plain": "Info     name  year  points\nNum                        \n0     Beomwoo  2013     1.5\n1     Beomwoo  2014     1.7\n2     Beomwoo  2015     3.6\n3         Kim  2016     2.4\n4        Park  2015     2.9"
     },
     "execution_count": 16,
     "metadata": {},
     "output_type": "execute_result"
    }
   ],
   "source": [
    "df.index.name = 'Num'\n",
    "df.columns.name = 'Info'\n",
    "df"
   ]
  },
  {
   "cell_type": "code",
   "execution_count": 21,
   "metadata": {},
   "outputs": [
    {
     "data": {
      "text/html": "<div>\n<style scoped>\n    .dataframe tbody tr th:only-of-type {\n        vertical-align: middle;\n    }\n\n    .dataframe tbody tr th {\n        vertical-align: top;\n    }\n\n    .dataframe thead th {\n        text-align: right;\n    }\n</style>\n<table border=\"1\" class=\"dataframe\">\n  <thead>\n    <tr style=\"text-align: right;\">\n      <th></th>\n      <th>year</th>\n      <th>name</th>\n      <th>points</th>\n      <th>penalty</th>\n    </tr>\n  </thead>\n  <tbody>\n    <tr>\n      <td>one</td>\n      <td>2013</td>\n      <td>Beomwoo</td>\n      <td>1.5</td>\n      <td>NaN</td>\n    </tr>\n    <tr>\n      <td>two</td>\n      <td>2014</td>\n      <td>Beomwoo</td>\n      <td>1.7</td>\n      <td>NaN</td>\n    </tr>\n    <tr>\n      <td>three</td>\n      <td>2015</td>\n      <td>Beomwoo</td>\n      <td>3.6</td>\n      <td>NaN</td>\n    </tr>\n    <tr>\n      <td>four</td>\n      <td>2016</td>\n      <td>Kim</td>\n      <td>2.4</td>\n      <td>NaN</td>\n    </tr>\n    <tr>\n      <td>five</td>\n      <td>2015</td>\n      <td>Park</td>\n      <td>2.9</td>\n      <td>NaN</td>\n    </tr>\n  </tbody>\n</table>\n</div>",
      "text/plain": "       year     name  points penalty\none    2013  Beomwoo     1.5     NaN\ntwo    2014  Beomwoo     1.7     NaN\nthree  2015  Beomwoo     3.6     NaN\nfour   2016      Kim     2.4     NaN\nfive   2015     Park     2.9     NaN"
     },
     "execution_count": 21,
     "metadata": {},
     "output_type": "execute_result"
    }
   ],
   "source": [
    "df2 = pd.DataFrame(data, columns=['year', 'name', 'points', 'penalty'], index=['one','two','three','four','five'])\n",
    "df2"
   ]
  },
  {
   "cell_type": "code",
   "execution_count": 22,
   "metadata": {},
   "outputs": [
    {
     "data": {
      "text/html": "<div>\n<style scoped>\n    .dataframe tbody tr th:only-of-type {\n        vertical-align: middle;\n    }\n\n    .dataframe tbody tr th {\n        vertical-align: top;\n    }\n\n    .dataframe thead th {\n        text-align: right;\n    }\n</style>\n<table border=\"1\" class=\"dataframe\">\n  <thead>\n    <tr style=\"text-align: right;\">\n      <th></th>\n      <th>year</th>\n      <th>points</th>\n    </tr>\n  </thead>\n  <tbody>\n    <tr>\n      <td>count</td>\n      <td>5.000000</td>\n      <td>5.000000</td>\n    </tr>\n    <tr>\n      <td>mean</td>\n      <td>2014.600000</td>\n      <td>2.420000</td>\n    </tr>\n    <tr>\n      <td>std</td>\n      <td>1.140175</td>\n      <td>0.864292</td>\n    </tr>\n    <tr>\n      <td>min</td>\n      <td>2013.000000</td>\n      <td>1.500000</td>\n    </tr>\n    <tr>\n      <td>25%</td>\n      <td>2014.000000</td>\n      <td>1.700000</td>\n    </tr>\n    <tr>\n      <td>50%</td>\n      <td>2015.000000</td>\n      <td>2.400000</td>\n    </tr>\n    <tr>\n      <td>75%</td>\n      <td>2015.000000</td>\n      <td>2.900000</td>\n    </tr>\n    <tr>\n      <td>max</td>\n      <td>2016.000000</td>\n      <td>3.600000</td>\n    </tr>\n  </tbody>\n</table>\n</div>",
      "text/plain": "              year    points\ncount     5.000000  5.000000\nmean   2014.600000  2.420000\nstd       1.140175  0.864292\nmin    2013.000000  1.500000\n25%    2014.000000  1.700000\n50%    2015.000000  2.400000\n75%    2015.000000  2.900000\nmax    2016.000000  3.600000"
     },
     "execution_count": 22,
     "metadata": {},
     "output_type": "execute_result"
    }
   ],
   "source": [
    "df2.describe()"
   ]
  },
  {
   "cell_type": "code",
   "execution_count": 24,
   "metadata": {},
   "outputs": [
    {
     "data": {
      "text/html": "<div>\n<style scoped>\n    .dataframe tbody tr th:only-of-type {\n        vertical-align: middle;\n    }\n\n    .dataframe tbody tr th {\n        vertical-align: top;\n    }\n\n    .dataframe thead th {\n        text-align: right;\n    }\n</style>\n<table border=\"1\" class=\"dataframe\">\n  <thead>\n    <tr style=\"text-align: right;\">\n      <th></th>\n      <th>year</th>\n      <th>names</th>\n      <th>points</th>\n      <th>penalty</th>\n    </tr>\n  </thead>\n  <tbody>\n    <tr>\n      <td>one</td>\n      <td>2014</td>\n      <td>Kilho</td>\n      <td>1.5</td>\n      <td>NaN</td>\n    </tr>\n    <tr>\n      <td>two</td>\n      <td>2015</td>\n      <td>Kilho</td>\n      <td>1.7</td>\n      <td>NaN</td>\n    </tr>\n    <tr>\n      <td>three</td>\n      <td>2016</td>\n      <td>Kilho</td>\n      <td>3.6</td>\n      <td>NaN</td>\n    </tr>\n    <tr>\n      <td>four</td>\n      <td>2015</td>\n      <td>Charles</td>\n      <td>2.4</td>\n      <td>NaN</td>\n    </tr>\n    <tr>\n      <td>five</td>\n      <td>2016</td>\n      <td>Charles</td>\n      <td>2.9</td>\n      <td>NaN</td>\n    </tr>\n  </tbody>\n</table>\n</div>",
      "text/plain": "       year    names  points penalty\none    2014    Kilho     1.5     NaN\ntwo    2015    Kilho     1.7     NaN\nthree  2016    Kilho     3.6     NaN\nfour   2015  Charles     2.4     NaN\nfive   2016  Charles     2.9     NaN"
     },
     "execution_count": 24,
     "metadata": {},
     "output_type": "execute_result"
    }
   ],
   "source": [
    "data = {\"names\": [\"Kilho\", \"Kilho\", \"Kilho\", \"Charles\", \"Charles\"],\n",
    "           \"year\": [2014, 2015, 2016, 2015, 2016],\n",
    "           \"points\": [1.5, 1.7, 3.6, 2.4, 2.9]}\n",
    "df = pd.DataFrame(data, columns=['year', 'names', 'points', 'penalty'], index=['one','two','three','four','five'])\n",
    "df"
   ]
  },
  {
   "cell_type": "code",
   "execution_count": 26,
   "metadata": {},
   "outputs": [
    {
     "data": {
      "text/plain": "one      2014\ntwo      2015\nthree    2016\nfour     2015\nfive     2016\nName: year, dtype: int64"
     },
     "execution_count": 26,
     "metadata": {},
     "output_type": "execute_result"
    }
   ],
   "source": [
    "df['year']"
   ]
  },
  {
   "cell_type": "code",
   "execution_count": 27,
   "metadata": {},
   "outputs": [
    {
     "data": {
      "text/plain": "one      2014\ntwo      2015\nthree    2016\nfour     2015\nfive     2016\nName: year, dtype: int64"
     },
     "execution_count": 27,
     "metadata": {},
     "output_type": "execute_result"
    }
   ],
   "source": [
    "df.year"
   ]
  },
  {
   "cell_type": "code",
   "execution_count": 29,
   "metadata": {},
   "outputs": [
    {
     "data": {
      "text/html": "<div>\n<style scoped>\n    .dataframe tbody tr th:only-of-type {\n        vertical-align: middle;\n    }\n\n    .dataframe tbody tr th {\n        vertical-align: top;\n    }\n\n    .dataframe thead th {\n        text-align: right;\n    }\n</style>\n<table border=\"1\" class=\"dataframe\">\n  <thead>\n    <tr style=\"text-align: right;\">\n      <th></th>\n      <th>year</th>\n      <th>points</th>\n    </tr>\n  </thead>\n  <tbody>\n    <tr>\n      <td>one</td>\n      <td>2014</td>\n      <td>1.5</td>\n    </tr>\n    <tr>\n      <td>two</td>\n      <td>2015</td>\n      <td>1.7</td>\n    </tr>\n    <tr>\n      <td>three</td>\n      <td>2016</td>\n      <td>3.6</td>\n    </tr>\n    <tr>\n      <td>four</td>\n      <td>2015</td>\n      <td>2.4</td>\n    </tr>\n    <tr>\n      <td>five</td>\n      <td>2016</td>\n      <td>2.9</td>\n    </tr>\n  </tbody>\n</table>\n</div>",
      "text/plain": "       year  points\none    2014     1.5\ntwo    2015     1.7\nthree  2016     3.6\nfour   2015     2.4\nfive   2016     2.9"
     },
     "execution_count": 29,
     "metadata": {},
     "output_type": "execute_result"
    }
   ],
   "source": [
    "df[['year','points']]"
   ]
  },
  {
   "cell_type": "code",
   "execution_count": 31,
   "metadata": {},
   "outputs": [
    {
     "data": {
      "text/html": "<div>\n<style scoped>\n    .dataframe tbody tr th:only-of-type {\n        vertical-align: middle;\n    }\n\n    .dataframe tbody tr th {\n        vertical-align: top;\n    }\n\n    .dataframe thead th {\n        text-align: right;\n    }\n</style>\n<table border=\"1\" class=\"dataframe\">\n  <thead>\n    <tr style=\"text-align: right;\">\n      <th></th>\n      <th>year</th>\n      <th>names</th>\n      <th>points</th>\n      <th>penalty</th>\n    </tr>\n  </thead>\n  <tbody>\n    <tr>\n      <td>one</td>\n      <td>2014</td>\n      <td>Kilho</td>\n      <td>1.5</td>\n      <td>NaN</td>\n    </tr>\n    <tr>\n      <td>two</td>\n      <td>2015</td>\n      <td>Kilho</td>\n      <td>1.7</td>\n      <td>NaN</td>\n    </tr>\n    <tr>\n      <td>three</td>\n      <td>2016</td>\n      <td>Kilho</td>\n      <td>3.6</td>\n      <td>NaN</td>\n    </tr>\n    <tr>\n      <td>four</td>\n      <td>2015</td>\n      <td>Charles</td>\n      <td>2.4</td>\n      <td>NaN</td>\n    </tr>\n    <tr>\n      <td>five</td>\n      <td>2016</td>\n      <td>Charles</td>\n      <td>2.9</td>\n      <td>NaN</td>\n    </tr>\n  </tbody>\n</table>\n</div>",
      "text/plain": "       year    names  points penalty\none    2014    Kilho     1.5     NaN\ntwo    2015    Kilho     1.7     NaN\nthree  2016    Kilho     3.6     NaN\nfour   2015  Charles     2.4     NaN\nfive   2016  Charles     2.9     NaN"
     },
     "execution_count": 31,
     "metadata": {},
     "output_type": "execute_result"
    }
   ],
   "source": [
    "df"
   ]
  },
  {
   "cell_type": "code",
   "execution_count": null,
   "metadata": {},
   "outputs": [],
   "source": []
  }
 ]
}